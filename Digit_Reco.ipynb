{
 "cells": [
  {
   "cell_type": "code",
   "execution_count": null,
   "id": "75e036c9",
   "metadata": {},
   "outputs": [],
   "source": [
    "# Importing the Libraries and Dependencies\n",
    "\n",
    "import numpy as np\n",
    "import matplotlib.pyplot as plt\n",
    "from tensorflow.keras.datasets import mnist\n",
    "from tensorflow.keras.models import Sequential\n",
    "from tensorflow.keras.layers import Conv2D, MaxPooling2D, Flatten, Dense\n",
    "from tensorflow.keras.utils import to_categorical"
   ]
  },
  {
   "cell_type": "code",
   "execution_count": 120,
   "id": "9c19d26c",
   "metadata": {},
   "outputs": [],
   "source": [
    "# splits data into two tuples\n",
    "\n",
    "(X_train,y_train), (X_test, y_test) = mnist.load_data()"
   ]
  },
  {
   "cell_type": "markdown",
   "id": "075532f3",
   "metadata": {},
   "source": [
    "| Term      | Meaning                                       | Shape / Structure    |\n",
    "|-----------|-----------------------------------------------|-----------------------|\n",
    "| X_train   | Input images used to train the model          | (60000, 28, 28)       |\n",
    "| y_train   | Correct labels for those training images      | (60000,)              |\n",
    "| X_test    | Input images used to test/evaluate the model  | (10000, 28, 28)       |\n",
    "| y_test    | Correct labels for those test images          | (10000,)              |\n"
   ]
  },
  {
   "cell_type": "code",
   "execution_count": 121,
   "id": "130b5e43",
   "metadata": {},
   "outputs": [
    {
     "data": {
      "text/plain": [
       "array([0, 1, 2, 3, 4, 5, 6, 7, 8, 9], dtype=uint8)"
      ]
     },
     "execution_count": 121,
     "metadata": {},
     "output_type": "execute_result"
    }
   ],
   "source": [
    "# checks unique values in y_train proving that it contains only values upto 0-9\n",
    "\n",
    "np.unique(y_train)"
   ]
  },
  {
   "cell_type": "markdown",
   "id": "82261619",
   "metadata": {},
   "source": [
    "### Preprocessing the data"
   ]
  },
  {
   "cell_type": "code",
   "execution_count": 122,
   "id": "301cef8d",
   "metadata": {},
   "outputs": [],
   "source": [
    "# Normalize the image pixel\n",
    "\n",
    "X_train = X_train / 255.0\n",
    "X_test = X_test / 255.0"
   ]
  },
  {
   "cell_type": "code",
   "execution_count": 123,
   "id": "c8ab30c7",
   "metadata": {},
   "outputs": [],
   "source": [
    "# Reshape the images to height width and channel parameters\n",
    "# -1 = automatically infers the number of samples (60000 or 10000)\n",
    "# 28, 28, 1 = height, width, channels\n",
    "\n",
    "X_train = X_train.reshape(-1, 28, 28, 1)\n",
    "X_test = X_test.reshape(-1, 28, 28, 1)"
   ]
  },
  {
   "cell_type": "code",
   "execution_count": 124,
   "id": "30582e70",
   "metadata": {},
   "outputs": [],
   "source": [
    "# Apply one hot encoding to categorical data\n",
    "\n",
    "y_train = to_categorical(y_train)\n",
    "y_test = to_categorical(y_test)"
   ]
  },
  {
   "cell_type": "code",
   "execution_count": 125,
   "id": "fedc9fe6",
   "metadata": {},
   "outputs": [],
   "source": [
    "# Creating a Model\n",
    "\n",
    "model = Sequential()\n",
    "\n",
    "# First Convolutional Layer for 32 filters\n",
    "model.add(Conv2D(filters=32, kernel_size=3, activation='relu', input_shape=(28,28,1)))\n",
    "\n",
    "# Pooling Layer\n",
    "model.add(MaxPooling2D(pool_size=2))\n",
    "\n",
    "# Second Convolutional Layer with 64 filters\n",
    "model.add(Conv2D(filters=64, kernel_size=3, activation='relu'))\n",
    "\n",
    "# Pooling Layer\n",
    "model.add(MaxPooling2D(pool_size=2))\n",
    "\n",
    "# Flatten the output\n",
    "model.add(Flatten())\n",
    "\n",
    "# Dense Layer with 128 neurons and relu as Activation Function\n",
    "model.add(Dense(128, activation='relu'))\n",
    "\n",
    "# Dropout layer to reduce overfitting (Optional)\n",
    "model.add(Dropout(0.2))\n",
    "\n",
    "# Dense Layer for 10 neurons as outputs 0-9 and with Softmax Activation Function\n",
    "model.add(Dense(10, activation='softmax'))"
   ]
  },
  {
   "cell_type": "code",
   "execution_count": 126,
   "id": "aa43baab",
   "metadata": {},
   "outputs": [],
   "source": [
    "# Compile the model \n",
    "model.compile(optimizer='adam',\n",
    "              loss='categorical_crossentropy',\n",
    "              metrics=['accuracy']\n",
    ")"
   ]
  },
  {
   "cell_type": "code",
   "execution_count": 127,
   "id": "e4b347b5",
   "metadata": {},
   "outputs": [
    {
     "name": "stdout",
     "output_type": "stream",
     "text": [
      "Epoch 1/5\n",
      "1875/1875 [==============================] - 15s 7ms/step - loss: 0.1433 - accuracy: 0.9566 - val_loss: 0.0492 - val_accuracy: 0.9835\n",
      "Epoch 2/5\n",
      "1875/1875 [==============================] - 12s 7ms/step - loss: 0.0527 - accuracy: 0.9834 - val_loss: 0.0310 - val_accuracy: 0.9894\n",
      "Epoch 3/5\n",
      "1875/1875 [==============================] - 12s 7ms/step - loss: 0.0375 - accuracy: 0.9880 - val_loss: 0.0258 - val_accuracy: 0.9912\n",
      "Epoch 4/5\n",
      "1875/1875 [==============================] - 14s 7ms/step - loss: 0.0266 - accuracy: 0.9915 - val_loss: 0.0301 - val_accuracy: 0.9901\n",
      "Epoch 5/5\n",
      "1875/1875 [==============================] - 13s 7ms/step - loss: 0.0224 - accuracy: 0.9928 - val_loss: 0.0299 - val_accuracy: 0.9907\n"
     ]
    },
    {
     "data": {
      "text/plain": [
       "<keras.src.callbacks.History at 0x1fce0d3f6d0>"
      ]
     },
     "execution_count": 127,
     "metadata": {},
     "output_type": "execute_result"
    }
   ],
   "source": [
    "# Train the model\n",
    "\n",
    "model.fit(X_train, y_train, epochs=5, validation_data=(X_test, y_test))"
   ]
  },
  {
   "cell_type": "code",
   "execution_count": 128,
   "id": "7c189953",
   "metadata": {},
   "outputs": [],
   "source": [
    "model.save(\"digit_model.h5\")"
   ]
  },
  {
   "cell_type": "code",
   "execution_count": 129,
   "id": "c84986fc",
   "metadata": {},
   "outputs": [
    {
     "name": "stdout",
     "output_type": "stream",
     "text": [
      "313/313 [==============================] - 1s 2ms/step - loss: 0.0299 - accuracy: 0.9907\n",
      "Model Accuracy during Testing: 99.07%\n"
     ]
    }
   ],
   "source": [
    "test_loss, test_accuracy = model.evaluate(X_test, y_test)\n",
    "print(f\"Model Accuracy during Testing: {test_accuracy * 100:.2f}%\")"
   ]
  }
 ],
 "metadata": {
  "kernelspec": {
   "display_name": "Python 3",
   "language": "python",
   "name": "python3"
  },
  "language_info": {
   "codemirror_mode": {
    "name": "ipython",
    "version": 3
   },
   "file_extension": ".py",
   "mimetype": "text/x-python",
   "name": "python",
   "nbconvert_exporter": "python",
   "pygments_lexer": "ipython3",
   "version": "3.11.5"
  }
 },
 "nbformat": 4,
 "nbformat_minor": 5
}
